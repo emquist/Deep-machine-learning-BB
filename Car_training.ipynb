{
 "cells": [
  {
   "cell_type": "markdown",
   "metadata": {},
   "source": [
    "## Imports"
   ]
  },
  {
   "cell_type": "code",
   "execution_count": 1,
   "metadata": {},
   "outputs": [],
   "source": [
    "import pandas as pd\n",
    "import numpy as np\n",
    "import matplotlib.pyplot as plt\n",
    "import torch\n",
    "import shutil\n",
    "from torch.utils.data import TensorDataset\n",
    "from torch.utils.data import Dataset\n",
    "from torchvision.datasets import ImageFolder\n",
    "from torchvision.datasets import ImageNet\n",
    "from torch.utils.data import DataLoader\n",
    "from torchvision import transforms\n",
    "#from torchvision.transforms import Compose\n",
    "#from torchvision.transforms import ToTensor\n",
    "from torch import optim\n",
    "from torch import nn\n",
    "import torch.nn.functional as F\n",
    "from pathlib import Path\n",
    "import glob\n",
    "from PIL import Image\n",
    "import random"
   ]
  },
  {
   "cell_type": "markdown",
   "metadata": {},
   "source": [
    "## Data sorting"
   ]
  },
  {
   "cell_type": "code",
   "execution_count": 3,
   "metadata": {},
   "outputs": [],
   "source": [
    "train_all_path = Path.cwd() / \"train_all\"\n",
    "\n",
    "all_filenames = list(train_all_path.glob(\"*.jpg\"))\n",
    "all_filenames_length = len(all_filenames)\n",
    "#print(all_filenames)\n",
    "\n",
    "train_filenames = random.sample(all_filenames, int(0.8*all_filenames_length))\n",
    "#print(train_filenames)\n",
    "val_filenames=[]\n",
    "for file in all_filenames:\n",
    "    if file not in train_filenames:\n",
    "        val_filenames.append(file)\n",
    "        \n",
    "        \n",
    "for subdirectory in range(1,197):\n",
    "    subdirectory = Path(\"train/{}\".format(subdirectory))\n",
    "    subdirectory.mkdir(parents=True, exist_ok=True)\n",
    "for subdirectory in range(1,197):\n",
    "    subdirectory = Path(\"val/{}\".format(subdirectory))\n",
    "    subdirectory.mkdir(parents=True, exist_ok=True)\n",
    "    \n",
    "f1  = open(\"class_string.txt\", \"r\").read().split(\"\\n\")\n",
    "f2  = open(\"fname_string.txt\", \"r\").read().split(\"\\n\")\n",
    "     \n",
    "for index in range(all_filenames_length):\n",
    "    rand = np.random.rand()\n",
    "    if rand < 0.8:\n",
    "        shutil.copyfile(all_filenames[index], Path.cwd() / \"train/{}/{}\".format(f1[index],f2[index]))\n",
    "    else:\n",
    "        shutil.copyfile(all_filenames[index], Path.cwd() / \"val/{}/{}\".format(f1[index],f2[index]))\n",
    "    "
   ]
  },
  {
   "cell_type": "markdown",
   "metadata": {},
   "source": [
    "## Data Handler\n"
   ]
  },
  {
   "cell_type": "code",
   "execution_count": null,
   "metadata": {},
   "outputs": [],
   "source": [
    "train_path = Path.cwd() / \"train\"\n",
    "val_path = Path.cwd() / \"val\"\n",
    "\n",
    "transform = transforms.Compose([transforms.Resize((224, 224), interpolation=Image.LANCZOS), transforms.ToTensor()])\n",
    "train_folder = ImageFolder(train_path, transform=transform)\n",
    "val_folder = ImageFolder(val_path, transform=transform)\n",
    "\n",
    "train_loaded = DataLoader(train_folder, batch_size=32, shuffle = True)\n",
    "val_loaded = DataLoader(val_folder, batch_size=32)"
   ]
  }
 ],
 "metadata": {
  "kernelspec": {
   "display_name": "Python 3",
   "language": "python",
   "name": "python3"
  },
  "language_info": {
   "codemirror_mode": {
    "name": "ipython",
    "version": 3
   },
   "file_extension": ".py",
   "mimetype": "text/x-python",
   "name": "python",
   "nbconvert_exporter": "python",
   "pygments_lexer": "ipython3",
   "version": "3.7.9"
  }
 },
 "nbformat": 4,
 "nbformat_minor": 4
}
